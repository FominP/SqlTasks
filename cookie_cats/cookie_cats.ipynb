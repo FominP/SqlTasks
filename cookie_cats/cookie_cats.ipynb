{
 "cells": [
  {
   "cell_type": "markdown",
   "id": "269f09dd-365d-4fdc-9c40-0be5c50b77e3",
   "metadata": {},
   "source": [
    "# Задание:\n",
    "В этом задании вам предлагается проанализировать результаты A/B-теста игры Cookie Cats. Результаты A/B-теста хранятся в таблице cookie_cats.ab_results.\n",
    "Cookie Cats — это мобильная игра-головоломка, разработанная компанией Tactile Entertainment. Это классическая игра в стиле «соедини три», где игрок должен соединить плитки одного цвета, чтобы очистить поле и выиграть уровень. Основным сеттингом игры являются кошки и необходимость их накормить лакомствами. \n",
    "\n",
    "По мере прохождения игры игроки сталкиваются с барьерами, которые заставляют их ждать некоторое время для продолжения или совершить покупку внутри приложения.\n",
    "Подробнее ознакомиться с игрой вы можете либо посмотрев видео с геймплеем игры, либо поиграв в нее самостоятельно! iOS, Android\n",
    "\n",
    "У нас есть данные по новым игрокам за некоторый период, которые устанавливали игру и получали одну из версий - либо первый барьер стоял на 30 уровне, либо на 40ом.\n",
    "Вам, как аналитику, необходимо, во-первых, провести разведочный анализ (EDA), а во-вторых, подвести итоги A/B-теста. После чего необходимо написать выводы для гейм-дизайнера (заказчика), который придумал это изменение. И также сформировать гипотезу, почему был получен тот результат, который был получен. \n",
    "\n",
    "Для разведочного анализа вам необходимо каждый раз данные формировать с помощью SQL-скрипта, а затем, используя выгруженные данные, построить необходимые таблицы и графики.\n",
    "\n",
    "Для подведения итогов A/B-теста вам необходимо оценить следующую гипотезу: \n",
    "**Если первый барьер перенести с 30 на 40 уровень, то вырастет retention игроков, а также квантили количества пройденных игроками уровней.**\n",
    "\n",
    "Для ее анализа вам необходимо оценить следующие метрики с использованием bootstrap:\n",
    "- retention 1-day\n",
    "- retention 7-day\n",
    "- медиана sum_gamerounds\n",
    "- среднее sum_gamerounds\n",
    "- 75% квантиль sum_gamerounds\n",
    "- 95% квантиль sum_gamerounds\n",
    "Уровень значимости - 5%. \n",
    "Bootstrap необходимо обязательно реализовать в виде UDF в Postgres. В схеме cookiecats у вас есть права на создание функций. Функцию необходимо назвать как bootstrap<фамилияио>. Пример: bootstrap_ivanov_i_i\n",
    "\n",
    "В конце ноутбука ожидаются выводы по результатам A/B-теста с рекомендацией о том, что нужно делать заказчику далее."
   ]
  },
  {
   "cell_type": "markdown",
   "id": "c9ee28bf-d3ad-4b7b-a262-250eaf885535",
   "metadata": {},
   "source": [
    "### Подключение к базе данных"
   ]
  },
  {
   "cell_type": "markdown",
   "id": "45d0d6d8-8fca-4f8b-a71d-4f87067a3d2d",
   "metadata": {
    "tags": []
   },
   "source": [
    "Так как хранить параметры учётной записи в коде небезопасно, создадим хранилище.\n",
    "\n",
    "Я оставил код для создания хранилища, чтобы его можно было проверить. Если Вы не захотите создавать хранилище, можно взять значения, которые я в него сохранял, и внести в переменные user, password, host, port"
   ]
  },
  {
   "cell_type": "code",
   "execution_count": null,
   "id": "e78a0e21-f683-4b56-8d38-1dc80e00d5b6",
   "metadata": {
    "tags": []
   },
   "outputs": [],
   "source": [
    "!pip install keyring -q"
   ]
  },
  {
   "cell_type": "code",
   "execution_count": null,
   "id": "f64990d8-7022-48a4-8ddf-51c4218045d6",
   "metadata": {
    "tags": []
   },
   "outputs": [],
   "source": [
    "import keyring\n",
    "\n",
    "# Установка секретов\n",
    "keyring.set_password(\"sql_course_database\", \"user\", \"student\")\n",
    "keyring.set_password(\"sql_course_database\", \"password\", \"6ecf4d61\")\n",
    "keyring.set_password(\"sql_course_database\", \"host\", \"92.63.70.133\")\n",
    "keyring.set_password(\"sql_course_database\", \"port\", \"5432\")"
   ]
  },
  {
   "cell_type": "code",
   "execution_count": 38,
   "id": "cd82cf41-613a-4e0a-88b4-62975aa69a2c",
   "metadata": {
    "tags": []
   },
   "outputs": [],
   "source": [
    "import keyring\n",
    "\n",
    "# Получение секретов\n",
    "user = keyring.get_password(\"sql_course_database\", \"user\")\n",
    "password = keyring.get_password(\"sql_course_database\", \"password\")\n",
    "host = keyring.get_password(\"sql_course_database\", \"host\")\n",
    "port = keyring.get_password(\"sql_course_database\", \"port\")"
   ]
  },
  {
   "cell_type": "markdown",
   "id": "a19708a5-3bd9-4fe8-aadc-fd758985ed93",
   "metadata": {
    "tags": []
   },
   "source": [
    "## Разведочный анализ данных"
   ]
  },
  {
   "cell_type": "code",
   "execution_count": 46,
   "id": "70ed6717-9048-4339-9917-8dbfcd897283",
   "metadata": {
    "tags": []
   },
   "outputs": [
    {
     "name": "stdout",
     "output_type": "stream",
     "text": [
      "Общая информация о данных:\n",
      "   row_count  uniq_row_count  uniq_userid_count  non_null_userid  \\\n",
      "0      90189           90189              90189            90189   \n",
      "\n",
      "   non_null_version  non_null_sum_gamerounds  non_null_retention_1  \\\n",
      "0             90189                    90189                 90189   \n",
      "\n",
      "   non_null_retention_7  \n",
      "0                 90189  \n",
      "\n",
      "Описательная статистика для sum_gamerounds:\n",
      "   min_rounds  max_rounds           avg_rounds  median_rounds\n",
      "0           0       49854  51.8724567297564004           16.0\n",
      "\n",
      "Распределение по группам (version):\n",
      "   version  count_all  count_more_30  count_more_40\n",
      "0  gate_30      44700          16656          13566\n",
      "1  gate_40      45489          16613          13827\n",
      "\n",
      "Сравнение средних значений между группами:\n",
      "   version           avg_rounds  median_rounds        retention_1_rate  \\\n",
      "0  gate_30  52.4562639821029083           17.0  0.44818791946308724832   \n",
      "1  gate_40  51.2987755281496626           16.0  0.44228274967574578470   \n",
      "\n",
      "         retention_7_rate  \n",
      "0  0.19020134228187919463  \n",
      "1  0.18200004396667326167  \n",
      "\n",
      "Распределение количества игровых раундов:\n",
      "     sum_gamerounds  count\n",
      "0                 0   3994\n",
      "1                 1   5538\n",
      "2                 2   4606\n",
      "3                 3   3958\n",
      "4                 4   3629\n",
      "..              ...    ...\n",
      "937            2294      1\n",
      "938            2438      1\n",
      "939            2640      1\n",
      "940            2961      1\n",
      "941           49854      1\n",
      "\n",
      "[942 rows x 2 columns]\n",
      "\n",
      "Игроки с более чем 1000 раундов (выбросы):\n",
      "      userid  version  sum_gamerounds  retention_1  retention_7\n",
      "0      69927  gate_30            1906         True         True\n",
      "1     121303  gate_30            1374         True         True\n",
      "2     248748  gate_30            1309         True         True\n",
      "3     284610  gate_30            1252         True         True\n",
      "4     294376  gate_40            1315         True         True\n",
      "..       ...      ...             ...          ...          ...\n",
      "111  9521620  gate_40            1252         True         True\n",
      "112  9530845  gate_40            1145         True         True\n",
      "113  9628337  gate_40            1082         True         True\n",
      "114  9640085  gate_30            2156         True         True\n",
      "115  9791599  gate_40            2063         True         True\n",
      "\n",
      "[116 rows x 5 columns]\n",
      "\n",
      "Процент удержания игроков:\n",
      "          retention_1_rate         retention_7_rate\n",
      "0  44.52095044850258900800  18.60648194347425961000\n",
      "\n",
      "Сравнение удержания между группами:\n",
      "   version         retention_1_rate         retention_7_rate\n",
      "0  gate_30  44.81879194630872483200  19.02013422818791946300\n",
      "1  gate_40  44.22827496757457847000  18.20000439666732616700\n"
     ]
    }
   ],
   "source": [
    "import psycopg2\n",
    "import pandas as pd\n",
    "import matplotlib.pyplot as plt\n",
    "import seaborn as sns\n",
    "import keyring\n",
    "\n",
    "conn_params = {\n",
    "    'dbname': \"project\",\n",
    "    'user': keyring.get_password(\"sql_course_database\", \"user\"),\n",
    "    'password': keyring.get_password(\"sql_course_database\", \"password\"),\n",
    "    'host': keyring.get_password(\"sql_course_database\", \"host\"),\n",
    "    'port': keyring.get_password(\"sql_course_database\", \"port\")\n",
    "}\n",
    "\n",
    "def execute_query(query, params=None):\n",
    "    with psycopg2.connect(**conn_params) as conn:\n",
    "        with conn.cursor() as cursor:\n",
    "            cursor.execute(query, params)\n",
    "            if cursor.description:\n",
    "                columns = [desc[0] for desc in cursor.description]\n",
    "                data = cursor.fetchall()\n",
    "                return pd.DataFrame(data, columns=columns)\n",
    "            else:\n",
    "                conn.commit()\n",
    "                return None\n",
    "\n",
    "# Общая информация о данных\n",
    "query_1 = \"\"\"\n",
    "SELECT \n",
    "    COUNT(*) AS row_count\n",
    "    , (SELECT COUNT(*) \n",
    "     FROM (SELECT DISTINCT userid, version, sum_gamerounds, retention_1, retention_7 \n",
    "           FROM cookie_cats.ab_results) AS uniq_rows) AS uniq_row_count\n",
    "    , COUNT(DISTINCT userid) AS uniq_userid_count\n",
    "    , COUNT(*) FILTER (WHERE userid IS NOT NULL) AS non_null_userid\n",
    "    , COUNT(*) FILTER (WHERE version IS NOT NULL) AS non_null_version\n",
    "    , COUNT(*) FILTER (WHERE sum_gamerounds IS NOT NULL) AS non_null_sum_gamerounds\n",
    "    , COUNT(*) FILTER (WHERE retention_1 IS NOT NULL) AS non_null_retention_1\n",
    "    , COUNT(*) FILTER (WHERE retention_7 IS NOT NULL) AS non_null_retention_7\n",
    "FROM cookie_cats.ab_results\n",
    "\"\"\"\n",
    "df_1 = execute_query(query_1)\n",
    "print(\"Общая информация о данных:\")\n",
    "print(df_1)\n",
    "\n",
    "# Описательная статистика\n",
    "query_2 = \"\"\"\n",
    "SELECT \n",
    "    MIN(sum_gamerounds) AS min_rounds\n",
    "    , MAX(sum_gamerounds) AS max_rounds\n",
    "    , AVG(sum_gamerounds) AS avg_rounds\n",
    "    , PERCENTILE_CONT(0.5) WITHIN GROUP (ORDER BY sum_gamerounds) AS median_rounds\n",
    "FROM cookie_cats.ab_results;\n",
    "\"\"\"\n",
    "df_2 = execute_query(query_2)\n",
    "print(\"\\nОписательная статистика для sum_gamerounds:\")\n",
    "print(df_2)\n",
    "\n",
    "query_3 = \"\"\"\n",
    "SELECT \n",
    "    version\n",
    "    , COUNT(*) AS count_all\n",
    "    , COUNT(*) FILTER (WHERE sum_gamerounds >= 30) count_more_30\n",
    "    , COUNT(*) FILTER (WHERE sum_gamerounds >= 40) count_more_40\n",
    "FROM cookie_cats.ab_results\n",
    "GROUP BY version\n",
    "\"\"\"\n",
    "df_3 = execute_query(query_3)\n",
    "print(\"\\nРаспределение по группам (version):\")\n",
    "print(df_3)\n",
    "\n",
    "# Анализ групп (version)\n",
    "query_4 = \"\"\"\n",
    "SELECT \n",
    "    version\n",
    "    , AVG(sum_gamerounds) AS avg_rounds\n",
    "    , PERCENTILE_CONT(0.5) WITHIN GROUP (ORDER BY sum_gamerounds) AS median_rounds\n",
    "    , AVG(retention_1::int) AS retention_1_rate\n",
    "    , AVG(retention_7::int) AS retention_7_rate\n",
    "FROM cookie_cats.ab_results\n",
    "GROUP BY version;\n",
    "\"\"\"\n",
    "df_4 = execute_query(query_4)\n",
    "print(\"\\nСравнение средних значений между группами:\")\n",
    "print(df_4)\n",
    "\n",
    "# Анализ игровых раундов (sum_gamerounds)\n",
    "query_5 = \"\"\"\n",
    "SELECT sum_gamerounds, COUNT(*) AS count\n",
    "FROM cookie_cats.ab_results\n",
    "GROUP BY sum_gamerounds\n",
    "ORDER BY sum_gamerounds;\n",
    "\"\"\"\n",
    "df_5 = execute_query(query_5)\n",
    "print(\"\\nРаспределение количества игровых раундов:\")\n",
    "print(df_5)\n",
    "\n",
    "query_6 = \"\"\"\n",
    "SELECT *\n",
    "FROM cookie_cats.ab_results\n",
    "WHERE 1=1\n",
    "    AND sum_gamerounds > 1000\n",
    "\"\"\"\n",
    "df_6 = execute_query(query_6)\n",
    "print(\"\\nИгроки с более чем 1000 раундов (выбросы):\")\n",
    "print(df_6)\n",
    "\n",
    "# Анализ удержания (retention_1 и retention_7)\n",
    "query_7 = \"\"\"\n",
    "SELECT \n",
    "    AVG(retention_1::int) * 100 AS retention_1_rate\n",
    "    , AVG(retention_7::int) * 100 AS retention_7_rate\n",
    "FROM cookie_cats.ab_results\n",
    "\"\"\"\n",
    "df_7 = execute_query(query_7)\n",
    "print(\"\\nПроцент удержания игроков:\")\n",
    "print(df_7)\n",
    "\n",
    "query_8 = \"\"\"\n",
    "SELECT \n",
    "    version\n",
    "    , AVG(retention_1::int) * 100 AS retention_1_rate\n",
    "    , AVG(retention_7::int) * 100 AS retention_7_rate\n",
    "FROM cookie_cats.ab_results\n",
    "GROUP BY version;\n",
    "\"\"\"\n",
    "df_8 = execute_query(query_8)\n",
    "print(\"\\nСравнение удержания между группами:\")\n",
    "print(df_8)"
   ]
  },
  {
   "cell_type": "code",
   "execution_count": 40,
   "id": "57d0a808-9d6a-4401-9c95-f6853fafe526",
   "metadata": {
    "tags": []
   },
   "outputs": [
    {
     "data": {
      "image/png": "[encoded data removed]",
      "text/plain": [
       "<Figure size 1000x600 with 1 Axes>"
      ]
     },
     "metadata": {},
     "output_type": "display_data"
    }
   ],
   "source": [
    "plt.figure(figsize=(10, 6))\n",
    "sns.histplot(df_5['sum_gamerounds'], bins=200, kde=True)\n",
    "plt.title('Распределение количества игровых раундов')\n",
    "plt.xlabel('Количество раундов')\n",
    "plt.ylabel('Частота')\n",
    "plt.show()"
   ]
  },
  {
   "cell_type": "code",
   "execution_count": 41,
   "id": "eb8642e7-dff0-48a3-a1bd-ebf3f61fa389",
   "metadata": {
    "tags": []
   },
   "outputs": [
    {
     "data": {
      "text/html": [
       "<div>\n",
       "<style scoped>\n",
       "    .dataframe tbody tr th:only-of-type {\n",
       "        vertical-align: middle;\n",
       "    }\n",
       "\n",
       "    .dataframe tbody tr th {\n",
       "        vertical-align: top;\n",
       "    }\n",
       "\n",
       "    .dataframe thead th {\n",
       "        text-align: right;\n",
       "    }\n",
       "</style>\n",
       "<table border=\"1\" class=\"dataframe\">\n",
       "  <thead>\n",
       "    <tr style=\"text-align: right;\">\n",
       "      <th></th>\n",
       "      <th>version</th>\n",
       "      <th>avg_rounds</th>\n",
       "      <th>median_rounds</th>\n",
       "      <th>retention_1_rate</th>\n",
       "      <th>retention_7_rate</th>\n",
       "    </tr>\n",
       "  </thead>\n",
       "  <tbody>\n",
       "    <tr>\n",
       "      <th>0</th>\n",
       "      <td>gate_30</td>\n",
       "      <td>52.4562639821029083</td>\n",
       "      <td>17.0</td>\n",
       "      <td>0.44818791946308724832</td>\n",
       "      <td>0.19020134228187919463</td>\n",
       "    </tr>\n",
       "    <tr>\n",
       "      <th>1</th>\n",
       "      <td>gate_40</td>\n",
       "      <td>51.2987755281496626</td>\n",
       "      <td>16.0</td>\n",
       "      <td>0.44228274967574578470</td>\n",
       "      <td>0.18200004396667326167</td>\n",
       "    </tr>\n",
       "  </tbody>\n",
       "</table>\n",
       "</div>"
      ],
      "text/plain": [
       "   version           avg_rounds  median_rounds        retention_1_rate  \\\n",
       "0  gate_30  52.4562639821029083           17.0  0.44818791946308724832   \n",
       "1  gate_40  51.2987755281496626           16.0  0.44228274967574578470   \n",
       "\n",
       "         retention_7_rate  \n",
       "0  0.19020134228187919463  \n",
       "1  0.18200004396667326167  "
      ]
     },
     "execution_count": 41,
     "metadata": {},
     "output_type": "execute_result"
    }
   ],
   "source": [
    "df_4"
   ]
  },
  {
   "cell_type": "code",
   "execution_count": 42,
   "id": "c4006f1f-0421-42f0-b364-ec2891f6d056",
   "metadata": {
    "tags": []
   },
   "outputs": [
    {
     "data": {
      "image/png": "[encoded data removed]",
      "text/plain": [
       "<Figure size 1000x600 with 1 Axes>"
      ]
     },
     "metadata": {},
     "output_type": "display_data"
    }
   ],
   "source": [
    "df_4['avg_rounds'] = df_4['avg_rounds'].astype(float)\n",
    "df_4['median_rounds'] = df_4['median_rounds'].astype(float)\n",
    "\n",
    "df_4.plot(x='version', y=['avg_rounds', 'median_rounds'], kind='bar', figsize=(10, 6))\n",
    "plt.title('Распределение количества игровых раундов по группам')\n",
    "plt.xlabel('Группа')\n",
    "plt.ylabel('Количество раундов')\n",
    "plt.xticks(rotation=0)\n",
    "plt.show();"
   ]
  },
  {
   "cell_type": "code",
   "execution_count": 43,
   "id": "ddb1cfc0-e1ae-4562-92d5-bc8d7874895a",
   "metadata": {
    "tags": []
   },
   "outputs": [
    {
     "data": {
      "image/png": "[encoded data removed]",
      "text/plain": [
       "<Figure size 1000x600 with 1 Axes>"
      ]
     },
     "metadata": {},
     "output_type": "display_data"
    }
   ],
   "source": [
    "df_8['retention_1_rate'] = df_8['retention_1_rate'].astype(float)\n",
    "df_8['retention_7_rate'] = df_8['retention_7_rate'].astype(float)\n",
    "\n",
    "df_8.plot(x='version', y=['retention_1_rate', 'retention_7_rate'], kind='bar', figsize=(10, 6))\n",
    "plt.title('Процент удержания по группам')\n",
    "plt.xlabel('Группа')\n",
    "plt.ylabel('Процент удержания')\n",
    "plt.xticks(rotation=0)\n",
    "plt.show()"
   ]
  },
  {
   "cell_type": "markdown",
   "id": "4b321173-2030-43db-8272-340d6208571e",
   "metadata": {
    "tags": []
   },
   "source": [
    "### Выводы по EDA\n",
    "1) В таблице нет пропусков, дубликатов.\n",
    "2) Uруппы примерно равны между собой? количество видевших баннер примерно равно в двух группах.\n",
    "3) Минимальное количество сыгранных раундов - 0, максимальное - 49854, среднее 52, медианное 16. Количество сыгранных раундов подвержено выбросам и быстро падает. Основное количество игроков сыграли менее 100 раундов. Более 1000 раундов имеют всего 116 игроков.\n",
    "4) Распределение количества сыгранных раундов и процент удержания по группам различается незначительно"
   ]
  },
  {
   "cell_type": "markdown",
   "id": "606d1656-be03-4b7d-8cba-240743281759",
   "metadata": {},
   "source": [
    "## Анализ результатов A/B-тестирования"
   ]
  },
  {
   "cell_type": "code",
   "execution_count": 44,
   "id": "9eb31b22-efff-4760-9333-c5744689b9a6",
   "metadata": {
    "tags": []
   },
   "outputs": [
    {
     "name": "stdout",
     "output_type": "stream",
     "text": [
      "Сравнение метрик в контрольной и тестовой группах:\n"
     ]
    },
    {
     "data": {
      "text/html": [
       "<div>\n",
       "<style scoped>\n",
       "    .dataframe tbody tr th:only-of-type {\n",
       "        vertical-align: middle;\n",
       "    }\n",
       "\n",
       "    .dataframe tbody tr th {\n",
       "        vertical-align: top;\n",
       "    }\n",
       "\n",
       "    .dataframe thead th {\n",
       "        text-align: right;\n",
       "    }\n",
       "</style>\n",
       "<table border=\"1\" class=\"dataframe\">\n",
       "  <thead>\n",
       "    <tr style=\"text-align: right;\">\n",
       "      <th></th>\n",
       "      <th>metric_name</th>\n",
       "      <th>group_a_lower</th>\n",
       "      <th>group_a_upper</th>\n",
       "      <th>group_b_lower</th>\n",
       "      <th>group_b_upper</th>\n",
       "    </tr>\n",
       "  </thead>\n",
       "  <tbody>\n",
       "    <tr>\n",
       "      <th>0</th>\n",
       "      <td>retention_1</td>\n",
       "      <td>0.400391</td>\n",
       "      <td>0.492170</td>\n",
       "      <td>0.398678</td>\n",
       "      <td>0.486784</td>\n",
       "    </tr>\n",
       "    <tr>\n",
       "      <th>1</th>\n",
       "      <td>retention_7</td>\n",
       "      <td>0.154362</td>\n",
       "      <td>0.225951</td>\n",
       "      <td>0.147577</td>\n",
       "      <td>0.215859</td>\n",
       "    </tr>\n",
       "    <tr>\n",
       "      <th>2</th>\n",
       "      <td>median_gamerounds</td>\n",
       "      <td>14.000000</td>\n",
       "      <td>20.000000</td>\n",
       "      <td>13.000000</td>\n",
       "      <td>19.500000</td>\n",
       "    </tr>\n",
       "    <tr>\n",
       "      <th>3</th>\n",
       "      <td>mean_gamerounds</td>\n",
       "      <td>42.325559</td>\n",
       "      <td>61.929139</td>\n",
       "      <td>42.048238</td>\n",
       "      <td>60.678304</td>\n",
       "    </tr>\n",
       "    <tr>\n",
       "      <th>4</th>\n",
       "      <td>75_quantile_gamerounds</td>\n",
       "      <td>40.987500</td>\n",
       "      <td>61.500000</td>\n",
       "      <td>42.000000</td>\n",
       "      <td>64.256250</td>\n",
       "    </tr>\n",
       "    <tr>\n",
       "      <th>5</th>\n",
       "      <td>95_quantile_gamerounds</td>\n",
       "      <td>167.497500</td>\n",
       "      <td>280.410000</td>\n",
       "      <td>170.098750</td>\n",
       "      <td>278.717500</td>\n",
       "    </tr>\n",
       "  </tbody>\n",
       "</table>\n",
       "</div>"
      ],
      "text/plain": [
       "              metric_name  group_a_lower  group_a_upper  group_b_lower  \\\n",
       "0             retention_1       0.400391       0.492170       0.398678   \n",
       "1             retention_7       0.154362       0.225951       0.147577   \n",
       "2       median_gamerounds      14.000000      20.000000      13.000000   \n",
       "3         mean_gamerounds      42.325559      61.929139      42.048238   \n",
       "4  75_quantile_gamerounds      40.987500      61.500000      42.000000   \n",
       "5  95_quantile_gamerounds     167.497500     280.410000     170.098750   \n",
       "\n",
       "   group_b_upper  \n",
       "0       0.486784  \n",
       "1       0.215859  \n",
       "2      19.500000  \n",
       "3      60.678304  \n",
       "4      64.256250  \n",
       "5     278.717500  "
      ]
     },
     "execution_count": 44,
     "metadata": {},
     "output_type": "execute_result"
    }
   ],
   "source": [
    "query_ab = \"\"\"\n",
    "select * from cookiecats.bootstrap_fomin_p_a(\n",
    "    (select array_agg(retention_1::int) from cookie_cats.ab_results where version = 'gate_30'),\n",
    "    (select array_agg(retention_1::int) from cookie_cats.ab_results where version = 'gate_40'),\n",
    "    'retention_1'\n",
    ")\n",
    "union all\n",
    "select * from cookiecats.bootstrap_fomin_p_a(\n",
    "    (select array_agg(retention_7::int) from cookie_cats.ab_results where version = 'gate_30'),\n",
    "    (select array_agg(retention_7::int) from cookie_cats.ab_results where version = 'gate_40'),\n",
    "    'retention_7'\n",
    ")\n",
    "union all\n",
    "select * from cookiecats.bootstrap_fomin_p_a(\n",
    "    (select array_agg(sum_gamerounds) from cookie_cats.ab_results where version = 'gate_30'),\n",
    "    (select array_agg(sum_gamerounds) from cookie_cats.ab_results where version = 'gate_40'),\n",
    "    'median_gamerounds'\n",
    ")\n",
    "union all\n",
    "select * from cookiecats.bootstrap_fomin_p_a(\n",
    "    (select array_agg(sum_gamerounds) from cookie_cats.ab_results where version = 'gate_30'),\n",
    "    (select array_agg(sum_gamerounds) from cookie_cats.ab_results where version = 'gate_40'),\n",
    "    'mean_gamerounds'\n",
    ")\n",
    "union all\n",
    "select * from cookiecats.bootstrap_fomin_p_a(\n",
    "    (select array_agg(sum_gamerounds) from cookie_cats.ab_results where version = 'gate_30'),\n",
    "    (select array_agg(sum_gamerounds) from cookie_cats.ab_results where version = 'gate_40'),\n",
    "    '75_quantile_gamerounds'\n",
    ")\n",
    "union all\n",
    "select * from cookiecats.bootstrap_fomin_p_a(\n",
    "    (select array_agg(sum_gamerounds) from cookie_cats.ab_results where version = 'gate_30'),\n",
    "    (select array_agg(sum_gamerounds) from cookie_cats.ab_results where version = 'gate_40'),\n",
    "    '95_quantile_gamerounds'\n",
    ")\n",
    "\"\"\"\n",
    "df_ab = execute_query(query_ab)\n",
    "print(\"Сравнение метрик в контрольной и тестовой группах:\")\n",
    "df_ab"
   ]
  },
  {
   "cell_type": "markdown",
   "id": "da178118-5712-4106-9cf9-e9c5cd65036e",
   "metadata": {},
   "source": [
    "Так как мы ожидаем эффект из-за просмотра баннера, имеет смысл посмотреть конкретно на тех игроков, которые его увидели, а не на всю группу. Так как в первой группе игроки видели баннер после 30 уровня, а во второй после 40, то было решено смотреть на тех, кто сыграл более 40 уровней (так можно будет сравнивать между собой медианное и среднее количество сыгранных уровней, хотя мы и упустим тех, кто видел баннер на 30 уровне но не дошёл до 40)."
   ]
  },
  {
   "cell_type": "code",
   "execution_count": 47,
   "id": "345be58d-7b9f-441d-9d47-987e88fd4d9c",
   "metadata": {
    "tags": []
   },
   "outputs": [
    {
     "name": "stdout",
     "output_type": "stream",
     "text": [
      "Сравнение метрик в контрольной и тестовой группах только по тем, у кого наиграно более 40 уровней:\n"
     ]
    },
    {
     "data": {
      "text/html": [
       "<div>\n",
       "<style scoped>\n",
       "    .dataframe tbody tr th:only-of-type {\n",
       "        vertical-align: middle;\n",
       "    }\n",
       "\n",
       "    .dataframe tbody tr th {\n",
       "        vertical-align: top;\n",
       "    }\n",
       "\n",
       "    .dataframe thead th {\n",
       "        text-align: right;\n",
       "    }\n",
       "</style>\n",
       "<table border=\"1\" class=\"dataframe\">\n",
       "  <thead>\n",
       "    <tr style=\"text-align: right;\">\n",
       "      <th></th>\n",
       "      <th>metric_name</th>\n",
       "      <th>group_a_lower</th>\n",
       "      <th>group_a_upper</th>\n",
       "      <th>group_b_lower</th>\n",
       "      <th>group_b_upper</th>\n",
       "    </tr>\n",
       "  </thead>\n",
       "  <tbody>\n",
       "    <tr>\n",
       "      <th>0</th>\n",
       "      <td>retention_1</td>\n",
       "      <td>0.770370</td>\n",
       "      <td>0.896296</td>\n",
       "      <td>0.768116</td>\n",
       "      <td>0.884058</td>\n",
       "    </tr>\n",
       "    <tr>\n",
       "      <th>1</th>\n",
       "      <td>retention_7</td>\n",
       "      <td>0.414815</td>\n",
       "      <td>0.585370</td>\n",
       "      <td>0.405797</td>\n",
       "      <td>0.565399</td>\n",
       "    </tr>\n",
       "    <tr>\n",
       "      <th>2</th>\n",
       "      <td>median_gamerounds</td>\n",
       "      <td>76.000000</td>\n",
       "      <td>109.000000</td>\n",
       "      <td>78.500000</td>\n",
       "      <td>108.000000</td>\n",
       "    </tr>\n",
       "    <tr>\n",
       "      <th>3</th>\n",
       "      <td>mean_gamerounds</td>\n",
       "      <td>119.788148</td>\n",
       "      <td>169.534074</td>\n",
       "      <td>118.967572</td>\n",
       "      <td>171.036775</td>\n",
       "    </tr>\n",
       "    <tr>\n",
       "      <th>4</th>\n",
       "      <td>75_quantile_gamerounds</td>\n",
       "      <td>136.487500</td>\n",
       "      <td>205.000000</td>\n",
       "      <td>135.750000</td>\n",
       "      <td>201.006250</td>\n",
       "    </tr>\n",
       "    <tr>\n",
       "      <th>5</th>\n",
       "      <td>95_quantile_gamerounds</td>\n",
       "      <td>303.397500</td>\n",
       "      <td>548.310000</td>\n",
       "      <td>296.536250</td>\n",
       "      <td>533.801250</td>\n",
       "    </tr>\n",
       "  </tbody>\n",
       "</table>\n",
       "</div>"
      ],
      "text/plain": [
       "              metric_name  group_a_lower  group_a_upper  group_b_lower  \\\n",
       "0             retention_1       0.770370       0.896296       0.768116   \n",
       "1             retention_7       0.414815       0.585370       0.405797   \n",
       "2       median_gamerounds      76.000000     109.000000      78.500000   \n",
       "3         mean_gamerounds     119.788148     169.534074     118.967572   \n",
       "4  75_quantile_gamerounds     136.487500     205.000000     135.750000   \n",
       "5  95_quantile_gamerounds     303.397500     548.310000     296.536250   \n",
       "\n",
       "   group_b_upper  \n",
       "0       0.884058  \n",
       "1       0.565399  \n",
       "2     108.000000  \n",
       "3     171.036775  \n",
       "4     201.006250  \n",
       "5     533.801250  "
      ]
     },
     "execution_count": 47,
     "metadata": {},
     "output_type": "execute_result"
    }
   ],
   "source": [
    "query_ab = \"\"\"\n",
    "select * from cookiecats.bootstrap_fomin_p_a(\n",
    "    (select array_agg(retention_1::int) from cookie_cats.ab_results where version = 'gate_30' and sum_gamerounds >= 40),\n",
    "    (select array_agg(retention_1::int) from cookie_cats.ab_results where version = 'gate_40' and sum_gamerounds >= 40),\n",
    "    'retention_1'\n",
    ")\n",
    "union all\n",
    "select * from cookiecats.bootstrap_fomin_p_a(\n",
    "    (select array_agg(retention_7::int) from cookie_cats.ab_results where version = 'gate_30' and sum_gamerounds >= 40),\n",
    "    (select array_agg(retention_7::int) from cookie_cats.ab_results where version = 'gate_40' and sum_gamerounds >= 40),\n",
    "    'retention_7'\n",
    ")\n",
    "union all\n",
    "select * from cookiecats.bootstrap_fomin_p_a(\n",
    "    (select array_agg(sum_gamerounds) from cookie_cats.ab_results where version = 'gate_30' and sum_gamerounds >= 40),\n",
    "    (select array_agg(sum_gamerounds) from cookie_cats.ab_results where version = 'gate_40' and sum_gamerounds >= 40),\n",
    "    'median_gamerounds'\n",
    ")\n",
    "union all\n",
    "select * from cookiecats.bootstrap_fomin_p_a(\n",
    "    (select array_agg(sum_gamerounds) from cookie_cats.ab_results where version = 'gate_30' and sum_gamerounds >= 40),\n",
    "    (select array_agg(sum_gamerounds) from cookie_cats.ab_results where version = 'gate_40' and sum_gamerounds >= 40),\n",
    "    'mean_gamerounds'\n",
    ")\n",
    "union all\n",
    "select * from cookiecats.bootstrap_fomin_p_a(\n",
    "    (select array_agg(sum_gamerounds) from cookie_cats.ab_results where version = 'gate_30' and sum_gamerounds >= 40),\n",
    "    (select array_agg(sum_gamerounds) from cookie_cats.ab_results where version = 'gate_40' and sum_gamerounds >= 40),\n",
    "    '75_quantile_gamerounds'\n",
    ")\n",
    "union all\n",
    "select * from cookiecats.bootstrap_fomin_p_a(\n",
    "    (select array_agg(sum_gamerounds) from cookie_cats.ab_results where version = 'gate_30' and sum_gamerounds >= 40),\n",
    "    (select array_agg(sum_gamerounds) from cookie_cats.ab_results where version = 'gate_40' and sum_gamerounds >= 40),\n",
    "    '95_quantile_gamerounds'\n",
    ")\n",
    "\"\"\"\n",
    "df_ab = execute_query(query_ab)\n",
    "print(\"Сравнение метрик в контрольной и тестовой группах только по тем, у кого наиграно более 40 уровней:\")\n",
    "df_ab"
   ]
  },
  {
   "cell_type": "markdown",
   "id": "6d12f17a-66c2-46ea-a71a-1dc865e94664",
   "metadata": {},
   "source": [
    "### Выводы по A/B\n",
    "1) Гипотезы по всем метрикам не подтвердились (доверительные интервалы пересекаются)\n",
    "2) Гипотеза, почему так получилось - прошло недостаточно времени с начала A/B-теста, и большинство пользователей не упёрлись в установленные барьеры (медианное значение сыгранных раундов в обеих группах всего 16 уровней.\n",
    "3) Рекомендации для заказчика - следует протестировать возможность перенести барьер на более ранние уровни (например, 15), так как половина игроков за 2 недели доходит проходит только 15 уровней."
   ]
  }
 ],
 "metadata": {
  "kernelspec": {
   "display_name": "Python 3 (ipykernel)",
   "language": "python",
   "name": "python3"
  },
  "language_info": {
   "codemirror_mode": {
    "name": "ipython",
    "version": 3
   },
   "file_extension": ".py",
   "mimetype": "text/x-python",
   "name": "python",
   "nbconvert_exporter": "python",
   "pygments_lexer": "ipython3",
   "version": "3.11.5"
  }
 },
 "nbformat": 4,
 "nbformat_minor": 5
}
